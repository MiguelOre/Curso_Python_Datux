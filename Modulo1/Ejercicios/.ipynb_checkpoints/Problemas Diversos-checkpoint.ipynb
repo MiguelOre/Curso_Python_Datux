{
 "cells": [
  {
   "cell_type": "markdown",
   "metadata": {},
   "source": [
    "# PROBLEMAS DIVERSOS"
   ]
  },
  {
   "cell_type": "markdown",
   "metadata": {},
   "source": [
    "<h3>1.</h3>\n",
    "Escribí un programa que solicite al usuario ingresar la cantidad de kilómetros recorridos por una motocicleta y la cantidad de litros de combustible que consumió durante ese recorrido. Mostrar el consumo de combustible por kilómetro."
   ]
  },
  {
   "cell_type": "markdown",
   "metadata": {},
   "source": [
    "<code>Kilómetros recorridos: 260\n",
    "Litros de combustible gastados: 12.5\n",
    "El consumo por kilómetro es de 20.8<code>"
   ]
  },
  {
   "cell_type": "code",
   "execution_count": 1,
   "metadata": {},
   "outputs": [
    {
     "name": "stdin",
     "output_type": "stream",
     "text": [
      "Kilometros recorridos:  23\n",
      "Litro de combustible gastado:  21\n"
     ]
    },
    {
     "name": "stdout",
     "output_type": "stream",
     "text": [
      "El consumo por kilometro es de 1.0952380952380953\n"
     ]
    }
   ],
   "source": [
    "kilometro = float(input('Kilometros recorridos: '))\n",
    "litro = float(input('Litro de combustible gastado: '))\n",
    "consumo = kilometro / litro\n",
    "print(f'El consumo por kilometro es de {consumo}')"
   ]
  },
  {
   "cell_type": "markdown",
   "metadata": {},
   "source": [
    "### 2.\n",
    "Escriba un programa que pida los coeficientes de una ecuación de segundo grado <code>(a x² + b x + c = 0)</code> y escriba la solución.\n",
    "\n",
    "Se recuerda que una ecuación de segundo grado puede no tener solución, tener una solución única, tener dos soluciones o que todos los números sean solución."
   ]
  },
  {
   "cell_type": "markdown",
   "metadata": {},
   "source": [
    "<img src='https://i.pinimg.com/originals/d3/f7/01/d3f701528ad56ce0f5a98d7c91722fd7.png'>"
   ]
  },
  {
   "cell_type": "markdown",
   "metadata": {},
   "source": [
    "Su programa debe indicar:\n",
    "- En caso la ecuación cuadrática tenga solución real, su programa debe brindar la solución\n",
    "- En caso su ecuación no tenga solución real, su programa debe brindar un mensaje que diga \"Ecuación no presenta solución real\""
   ]
  },
  {
   "cell_type": "code",
   "execution_count": null,
   "metadata": {},
   "outputs": [],
   "source": [
    "a = int(input('Ingrese primer coeficiente: '))\n",
    "b = int(input('Ingrese segundo coeficiente: '))\n",
    "c = int(input('Ingrese tercer coeficiente: '))\n",
    "print(f'La ecuacion es {a}x² + {b}x + {c}')"
   ]
  },
  {
   "cell_type": "code",
   "execution_count": null,
   "metadata": {},
   "outputs": [],
   "source": [
    "disc = ((b**2) - 4*a*c)\n",
    "if disc < 0:\n",
    "    print('La ecuacion no tiene solucion')\n",
    "elif disc == 0:\n",
    "    solucion = (-b/(2*a))\n",
    "    print(f'La solucion doble de la ecuacion es {solucion}')\n",
    "else:\n",
    "    solucion1 = (-b+(disc**0.5))/(2*a)\n",
    "    solucion2 = (-b-(disc**0.5))/(2*a)\n",
    "    print(f'Solucion 1 de la ecuacion: {solucion1}')\n",
    "    print(f'Solucion 12 de la ecuacion: {solucion2}')"
   ]
  }
 ],
 "metadata": {
  "kernelspec": {
   "display_name": "Python 3",
   "language": "python",
   "name": "python3"
  },
  "language_info": {
   "codemirror_mode": {
    "name": "ipython",
    "version": 3
   },
   "file_extension": ".py",
   "mimetype": "text/x-python",
   "name": "python",
   "nbconvert_exporter": "python",
   "pygments_lexer": "ipython3",
   "version": "3.8.5"
  }
 },
 "nbformat": 4,
 "nbformat_minor": 4
}
