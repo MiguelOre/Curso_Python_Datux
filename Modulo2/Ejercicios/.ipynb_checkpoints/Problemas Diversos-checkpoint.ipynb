{
 "cells": [
  {
   "cell_type": "markdown",
   "metadata": {},
   "source": [
    "# PROBLEMAS DIVERSOS"
   ]
  },
  {
   "cell_type": "markdown",
   "metadata": {},
   "source": [
    "<h3>1.</h3>\n",
    "Realizar una función que permita la carga de n alumnos. Por cada alumno se deberá preguntar el nombre completo y permitir el ingreso de 3 notas. Las notas deben estar comprendidas entre 0 y 10. Devolver el listado de alumnos."
   ]
  },
  {
   "cell_type": "code",
   "execution_count": 12,
   "metadata": {},
   "outputs": [
    {
     "name": "stdin",
     "output_type": "stream",
     "text": [
      "Cuantos alumnos desea ingresas?  3\n",
      "Ingrese el nombre del alumno 1:  Miguel\n",
      "Ingrese la nota 1 del alumno:  8\n",
      "Ingrese la nota 2 del alumno:  9\n",
      "Ingrese la nota 3 del alumno:  8\n",
      "Ingrese el nombre del alumno 2:  Ayelen\n",
      "Ingrese la nota 1 del alumno:  4\n",
      "Ingrese la nota 2 del alumno:  3\n",
      "Ingrese la nota 3 del alumno:  4\n",
      "Ingrese el nombre del alumno 3:  Walter\n",
      "Ingrese la nota 1 del alumno:  2\n",
      "Ingrese la nota 2 del alumno:  6\n",
      "Ingrese la nota 3 del alumno:  1\n"
     ]
    }
   ],
   "source": [
    "cantidad = int(input('Cuantos alumnos desea ingresas? '))\n",
    "lista_alumnos = []\n",
    "for i in range(cantidad):\n",
    "    alumno = {}\n",
    "    nombre = input(f'Ingrese el nombre del alumno {i+1}: ')\n",
    "    alumno['nombre']= nombre\n",
    "    \n",
    "    alumno['notas'] = []\n",
    "    \n",
    "    for n in range(3):\n",
    "        nota = float(input(f'Ingrese la nota {n+1} del alumno: '))\n",
    "        alumno['notas'].append(nota)\n",
    "\n",
    "    lista_alumnos.append(alumno)\n",
    "    "
   ]
  },
  {
   "cell_type": "code",
   "execution_count": 13,
   "metadata": {},
   "outputs": [
    {
     "data": {
      "text/plain": [
       "[{'nombre': 'Miguel', 'notas': [8.0, 9.0, 8.0]},\n",
       " {'nombre': 'Ayelen', 'notas': [4.0, 3.0, 4.0]},\n",
       " {'nombre': 'Walter', 'notas': [2.0, 6.0, 1.0]}]"
      ]
     },
     "execution_count": 13,
     "metadata": {},
     "output_type": "execute_result"
    }
   ],
   "source": [
    "lista_alumnos"
   ]
  },
  {
   "cell_type": "code",
   "execution_count": 14,
   "metadata": {},
   "outputs": [
    {
     "data": {
      "text/plain": [
       "{'nombre': 'Walter', 'notas': [2.0, 6.0, 1.0]}"
      ]
     },
     "execution_count": 14,
     "metadata": {},
     "output_type": "execute_result"
    }
   ],
   "source": [
    "alumno"
   ]
  },
  {
   "cell_type": "markdown",
   "metadata": {},
   "source": [
    "### 2.\n",
    "Definir una función que dado un listado de alumnos evalúe cuántos aprobaron y cuántos desaprobaron, teniendo en cuenta que se aprueba con 4. La nota será el promedio de las 3 notas para cada alumno."
   ]
  },
  {
   "cell_type": "code",
   "execution_count": 20,
   "metadata": {},
   "outputs": [],
   "source": [
    "def apro_desap():\n",
    "    for j in lista_alumnos:\n",
    "        prom = sum(j['notas'])/3\n",
    "        if prom >= 4:\n",
    "            print(j['nombre'], ': Aprobado')\n",
    "        else:\n",
    "            print(j['nombre'], ': Desaprobado')"
   ]
  },
  {
   "cell_type": "code",
   "execution_count": 21,
   "metadata": {},
   "outputs": [
    {
     "name": "stdout",
     "output_type": "stream",
     "text": [
      "Miguel : Aprobado\n",
      "Ayelen : Desaprobado\n",
      "Walter : Desaprobado\n"
     ]
    }
   ],
   "source": [
    "apro_desap()"
   ]
  },
  {
   "cell_type": "markdown",
   "metadata": {},
   "source": [
    "### 3.\n",
    "Informar el promedio de nota del curso total."
   ]
  },
  {
   "cell_type": "code",
   "execution_count": 17,
   "metadata": {},
   "outputs": [
    {
     "name": "stdout",
     "output_type": "stream",
     "text": [
      "Miguel 8.333333333333334\n",
      "Ayelen 3.6666666666666665\n",
      "Walter 3.0\n"
     ]
    }
   ],
   "source": [
    "for n in lista_alumnos:\n",
    "    print(n['nombre'], sum(n['notas'])/3)"
   ]
  },
  {
   "cell_type": "markdown",
   "metadata": {},
   "source": [
    "### 4.\n",
    "Realizar una función que indique quién tuvo el promedio más alto y quién tuvo la nota promedio más baja."
   ]
  },
  {
   "cell_type": "code",
   "execution_count": 26,
   "metadata": {},
   "outputs": [],
   "source": [
    "def prom_alto_bajo():\n",
    "    bajo = 11\n",
    "    alto = 0\n",
    "    for n in lista_alumnos:\n",
    "        if ((sum(n['notas'])/3) <= bajo):\n",
    "            bajo = sum(n['notas'])/3\n",
    "    print('El promedio mas bajo es {}'.format(bajo))\n",
    "    \n",
    "    for n in lista_alumnos:\n",
    "        if ((sum(n['notas'])/3) >= alto):\n",
    "            alto = sum(n['notas'])/3\n",
    "    print('El promedio mas alto es {}'.format(alto))\n",
    "            "
   ]
  },
  {
   "cell_type": "code",
   "execution_count": 27,
   "metadata": {},
   "outputs": [
    {
     "name": "stdout",
     "output_type": "stream",
     "text": [
      "El promedio mas bajo es 3.0\n",
      "El promedio mas alto es 8.333333333333334\n"
     ]
    }
   ],
   "source": [
    "prom_alto_bajo()"
   ]
  },
  {
   "cell_type": "markdown",
   "metadata": {},
   "source": [
    "### 5.\n",
    "Realizar una función que permita buscar un alumno por nombre, siendo el nombre completo o parcial, y devuelva una lista con los n alumnos que concuerden con ese nombre junto con todos sus datos, incluido el promedio de sus notas."
   ]
  },
  {
   "cell_type": "code",
   "execution_count": null,
   "metadata": {},
   "outputs": [],
   "source": [
    "def alumno(n):\n",
    "    notas=[]\n",
    "    nombre=[]\n",
    "    for i in range(n):\n",
    "        name= input(f'Ingrese el nombre del alumno {i+1}: ')\n",
    "        nombre.append(name)\n",
    "        nota_1 = float(input('Ingrese Nota 1: '))\n",
    "        nota_2 = float(input('Ingrese Nota 2: '))\n",
    "        nota_3 = float(input('Ingrese Nota 3: '))\n",
    "        notas.append([nota_1,nota_2,nota_3])\n",
    "    print(\"Alumnos \\t Notas\")\n",
    "    for i in range(n):\n",
    "        print(nombre[i],\"\\t \\t\",notas[i][0],notas[i][1],notas[i][2])\n",
    "n=int(input(\"Ingrese cantidad de alumnos: \"))\n",
    "alumno(n)"
   ]
  }
 ],
 "metadata": {
  "kernelspec": {
   "display_name": "Python 3",
   "language": "python",
   "name": "python3"
  },
  "language_info": {
   "codemirror_mode": {
    "name": "ipython",
    "version": 3
   },
   "file_extension": ".py",
   "mimetype": "text/x-python",
   "name": "python",
   "nbconvert_exporter": "python",
   "pygments_lexer": "ipython3",
   "version": "3.8.5"
  }
 },
 "nbformat": 4,
 "nbformat_minor": 4
}
