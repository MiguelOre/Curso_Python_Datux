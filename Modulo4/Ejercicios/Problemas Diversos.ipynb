{
 "cells": [
  {
   "cell_type": "markdown",
   "metadata": {},
   "source": [
    "# PROBLEMAS DIVERSOS"
   ]
  },
  {
   "cell_type": "markdown",
   "metadata": {},
   "source": [
    "<h3>1. Ficheros</h3>\n",
    "Escribir una función que pida un número entero entre 1 y 10 y guarde en un fichero con el nombre tabla-n.txt la tabla de multiplicar de ese número, done n es el número introducido."
   ]
  },
  {
   "cell_type": "code",
   "execution_count": 3,
   "metadata": {},
   "outputs": [],
   "source": [
    "def tabla_multiplicar():\n",
    "    while True:\n",
    "        try:\n",
    "            number = int(input(\"Ingrese numero entero (1 - 10):\"))\n",
    "            if (number > 0) and (number < 11):\n",
    "                break\n",
    "            else:\n",
    "                print(\"El numero no se encuentra en el rango\")\n",
    "        except:\n",
    "            print(\"Dato invalido\")\n",
    "    \n",
    "    with open(f'./tabla-{number}.txt', 'w') as f:\n",
    "        for k in range(11):\n",
    "            f.write(f\"{number} x {k} = {number*k}\\n\")\n",
    "        print(f\"La tabla de multiplicar de {number} se creo exitosamente en Tabla-{number}.txt\")\n",
    "        f.close"
   ]
  },
  {
   "cell_type": "code",
   "execution_count": 4,
   "metadata": {},
   "outputs": [
    {
     "name": "stdin",
     "output_type": "stream",
     "text": [
      "Ingrese numero entero (1 - 10): 2\n"
     ]
    },
    {
     "name": "stdout",
     "output_type": "stream",
     "text": [
      "La tabla de multiplicar de 2 se creo exitosamente en Tabla-2.txt\n"
     ]
    }
   ],
   "source": [
    "tabla_multiplicar()"
   ]
  },
  {
   "cell_type": "markdown",
   "metadata": {},
   "source": [
    "<h3>2.</h3>\n",
    "Escribir una función que pida un número entero entre 1 y 10, lea el fichero tabla-n.txt con la tabla de multiplicar de ese número, done n es el número introducido, y la muestre por pantalla. Si el fichero no existe debe mostrar un mensaje por pantalla informando de ello."
   ]
  },
  {
   "cell_type": "code",
   "execution_count": 6,
   "metadata": {},
   "outputs": [],
   "source": [
    "def leer_tabla():\n",
    "    while True:\n",
    "        try:\n",
    "            number = int(input(\"Ingrese numero entero (1 - 10):\"))\n",
    "            if (number > 0) and (number < 11):\n",
    "                break\n",
    "            else:\n",
    "                print(\"El numero no se encuentra en el rango\")\n",
    "        except:\n",
    "            print(\"Dato invalido\")\n",
    "    try:\n",
    "        with open(f'./tabla-{number}.txt', 'r') as f:\n",
    "            text = f.readlines()\n",
    "            for row in text:\n",
    "                print(row)\n",
    "    except:\n",
    "        print(\"No existe la tabla con el numero ingresado\")"
   ]
  },
  {
   "cell_type": "code",
   "execution_count": 7,
   "metadata": {},
   "outputs": [
    {
     "name": "stdin",
     "output_type": "stream",
     "text": [
      "Ingrese numero entero (1 - 10): 2\n"
     ]
    },
    {
     "name": "stdout",
     "output_type": "stream",
     "text": [
      "2 x 0 = 0\n",
      "\n",
      "2 x 1 = 2\n",
      "\n",
      "2 x 2 = 4\n",
      "\n",
      "2 x 3 = 6\n",
      "\n",
      "2 x 4 = 8\n",
      "\n",
      "2 x 5 = 10\n",
      "\n",
      "2 x 6 = 12\n",
      "\n",
      "2 x 7 = 14\n",
      "\n",
      "2 x 8 = 16\n",
      "\n",
      "2 x 9 = 18\n",
      "\n",
      "2 x 10 = 20\n",
      "\n"
     ]
    }
   ],
   "source": [
    "leer_tabla()"
   ]
  },
  {
   "cell_type": "markdown",
   "metadata": {},
   "source": [
    "<h3>3.</h3>\n",
    "\n",
    "Escribir una función que pida dos números n y m entre 1 y 10, lea el fichero tabla-n.txt con la tabla de multiplicar de ese número, y muestre por pantalla la línea m del fichero. Si el fichero no existe debe mostrar un mensaje por pantalla informando de ello."
   ]
  },
  {
   "cell_type": "code",
   "execution_count": 13,
   "metadata": {},
   "outputs": [],
   "source": [
    "def row_line():\n",
    "    while True:\n",
    "        try:\n",
    "            number = int(input(\"Ingrese numero entero (1 - 10):\"))\n",
    "            if (number > 0) and (number < 11):\n",
    "                while True:\n",
    "                    try:\n",
    "                        k = int(input(\"Ingrese segundo numero entero (1 - 10):\"))\n",
    "                        if (k > 0) and (k < 11):\n",
    "                            break\n",
    "                        else:\n",
    "                            print(\"El numero no se encuentra en el rango\")\n",
    "                    except:\n",
    "                        print(\"Dato invalido\")\n",
    "                break\n",
    "            else:\n",
    "                print(\"El numero no se encuentra en el rango\")\n",
    "        except:\n",
    "            print(\"Dato invalido\")\n",
    "    \n",
    "    try:\n",
    "        with open(f'./tabla-{number}.txt','r') as f:\n",
    "            text = f.readlines()\n",
    "            for row in text:\n",
    "                if row == f\"{number} x {k} = {number*k}\\n\":\n",
    "                    print(row)\n",
    "    except:\n",
    "        print(\"Ese producto no está almacenado en ningún archivo de tabla\")"
   ]
  },
  {
   "cell_type": "code",
   "execution_count": 14,
   "metadata": {},
   "outputs": [
    {
     "name": "stdin",
     "output_type": "stream",
     "text": [
      "Ingrese numero entero (1 - 10): 2\n",
      "Ingrese segundo numero entero (1 - 10): 3\n"
     ]
    },
    {
     "name": "stdout",
     "output_type": "stream",
     "text": [
      "2 x 3 = 6\n",
      "\n"
     ]
    }
   ],
   "source": [
    "row_line()"
   ]
  },
  {
   "cell_type": "markdown",
   "metadata": {},
   "source": [
    "<h3>4. Expresiones Regulares</h3>\n",
    "sda\n"
   ]
  },
  {
   "cell_type": "code",
   "execution_count": null,
   "metadata": {},
   "outputs": [],
   "source": []
  }
 ],
 "metadata": {
  "kernelspec": {
   "display_name": "Python 3",
   "language": "python",
   "name": "python3"
  },
  "language_info": {
   "codemirror_mode": {
    "name": "ipython",
    "version": 3
   },
   "file_extension": ".py",
   "mimetype": "text/x-python",
   "name": "python",
   "nbconvert_exporter": "python",
   "pygments_lexer": "ipython3",
   "version": "3.8.5"
  }
 },
 "nbformat": 4,
 "nbformat_minor": 4
}
